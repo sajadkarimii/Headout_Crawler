{
 "cells": [
  {
   "cell_type": "code",
   "execution_count": 27,
   "id": "bd6eb0eb-a796-4cb9-8e7f-2606eaf5b115",
   "metadata": {},
   "outputs": [],
   "source": [
    "import pandas as pd\n",
    "from bs4 import BeautifulSoup\n",
    "import time\n",
    "import requests\n",
    "from selenium.webdriver.common.by import By\n",
    "from selenium.webdriver import Chrome\n",
    "from selenium.webdriver.chrome.service import Service\n",
    "from selenium.webdriver.common.keys import Keys\n",
    "from selenium.webdriver.common.action_chains import ActionChains\n",
    "from selenium.webdriver.common.actions.wheel_input import ScrollOrigin\n",
    "import openpyxl"
   ]
  },
  {
   "cell_type": "code",
   "execution_count": 73,
   "id": "0d13db9d-17e6-40f3-b1ab-21ca47d5ff0d",
   "metadata": {},
   "outputs": [],
   "source": [
    "class crawl:\n",
    "    titles = []\n",
    "    prices = []\n",
    "    prices_org = []\n",
    "    off = []\n",
    "    rating = []\n",
    "    links = []\n",
    "    caption = []\n",
    "    priced = []\n",
    "    \n",
    "    def source(self , link , sheet_name):\n",
    "        self.titles = []\n",
    "        self.prices = []\n",
    "        self.prices_org = []\n",
    "        self.off = []\n",
    "        self.rating = []\n",
    "        self.links = []\n",
    "        self.caption = []\n",
    "        # Open browser\n",
    "        driver_path = r\"E:\\chromedriver-win64\\chromedriver.exe\"\n",
    "        service = Service(executable_path=driver_path)\n",
    "        driver = Chrome(service=service)\n",
    "        driver.get(link)\n",
    "        # Scroll to load content\n",
    "        last_height = driver.execute_script(\"return document.body.scrollHeight\")\n",
    "        while True:\n",
    "            # Scroll down\n",
    "            driver.execute_script(\"window.scrollTo(0, document.body.scrollHeight);\")\n",
    "            # Loading\n",
    "            time.sleep(2)\n",
    "            # New height\n",
    "            new_height = driver.execute_script(\"return document.body.scrollHeight\")\n",
    "            # Checking if we have reached the end of the page\n",
    "            if new_height == last_height:\n",
    "                break\n",
    "            last_height = new_height\n",
    "        # Save source\n",
    "        source = driver.page_source\n",
    "        driver.quit()\n",
    "        soup = BeautifulSoup(source ,'html.parser')\n",
    "        # Collect product links\n",
    "        products = soup.find_all(\"a\" , {\"class\" :\"styles__ProductTitle-sc-wary-5 huiqyt product-title block\"})\n",
    "        # Get the source of each product\n",
    "        for product in products:\n",
    "            PATH = \"https://www.headout.com\" + product['href']\n",
    "            self.links.append(PATH)\n",
    "            page = requests.get(PATH)\n",
    "            page_source = BeautifulSoup(page.text ,'html.parser')\n",
    "            self.crawling(page_source)\n",
    "        self.save(sheet_name)\n",
    "        \n",
    "    def crawling(self , source):\n",
    "        try :\n",
    "            self.titles.append(source.find('h1' , {'data-qa-marker' : 'product-name'}).text)\n",
    "        except :\n",
    "            self.titles.append(None)\n",
    "        \n",
    "        try :\n",
    "            self.caption.append(source.find('div' , {'class' : 'content-html notranslate'}).find('p').text)\n",
    "        except :\n",
    "            self.caption.append(None)\n",
    "            \n",
    "        try :\n",
    "            self.rating.append(source.find('span' , {'class' : 'product-rating-value rating'}).text + f\"({source.find('div' , {'class' : 'product-rating-text'}).find('span').text})\")\n",
    "        except :\n",
    "            self.rating.append(None)\n",
    "                \n",
    "        try :\n",
    "            self.prices.append(source.find('div' , {'class' : 'tourBasicPriceWrapper__FinalPriceText-sc-1ptsmk1-4 cNycAP discounted'}).text.replace('\\xa0',''))\n",
    "        except AttributeError:                \n",
    "            self.prices.append(source.find('div' , {'class' : 'tourBasicPriceWrapper__FinalPriceText-sc-1ptsmk1-4 cNycAP no-discount'}).text.replace('\\xa0',''))\n",
    "        except :\n",
    "            self.prices.append(None)\n",
    "                \n",
    "        try :\n",
    "            self.off.append(source.find('span' , {'class' : 'notranslate discount-percentage'}).text.replace('\\xa0',''))\n",
    "        except :\n",
    "            self.off.append(None)\n",
    "                \n",
    "        try :\n",
    "            self.prices_org.append(source.find('div' , {'class' : 'tourBasicPriceWrapper__OriginalPriceText-sc-1ptsmk1-5 gPIjQZ'}).text.replace('\\xa0',''))\n",
    "        except :\n",
    "            self.prices_org.append(None)\n",
    "\n",
    "    def save(self , sheet_name):\n",
    "        # Save into dictionary\n",
    "        dict = {}\n",
    "        dict['titles'] = self.titles\n",
    "        dict['rating'] = self.rating\n",
    "        dict['links'] = self.links \n",
    "        dict['caption'] = self.caption\n",
    "        dict['orginal prices'] = self.prices_org \n",
    "        dict['off'] = self.off \n",
    "        dict['prices'] = self.prices \n",
    "        # Save the previous price in a separate list\n",
    "        try :\n",
    "            workbook = openpyxl.load_workbook('Headout.xlsx')\n",
    "            # The list of sheets in the file\n",
    "            sheet_names = workbook.sheetnames\n",
    "            # Checking the existence of sheets\n",
    "            sheet_name_to_check = sheet_name\n",
    "            if sheet_name_to_check in sheet_names :\n",
    "                dfb = pd.read_excel('Headout.xlsx', sheet_name=sheet_name)\n",
    "                dict['previous_prices'] = dfb['prices']\n",
    "                for i in range(len(self.prices)):\n",
    "                        price1 = float(self.prices[i].replace('AED', '').strip())\n",
    "                        price2 = float(dfb['prices'][i].replace('AED', '').strip())\n",
    "                        self.priced.append(f\"{(price1 - price2)}AED\")\n",
    "                dict['price_diffrence'] = self.priced\n",
    "        except :\n",
    "            pass\n",
    "        # Save into dataframe\n",
    "        df = pd.DataFrame(dict)\n",
    "        try:\n",
    "            with pd.ExcelWriter('Headout.xlsx', mode='a', if_sheet_exists='replace') as writer:\n",
    "                df.to_excel(writer , sheet_name=sheet_name , index=False)\n",
    "        except FileNotFoundError:\n",
    "            df.to_excel(\"Headout.xlsx\" , sheet_name=sheet_name, index=False)\n",
    "        "
   ]
  },
  {
   "cell_type": "code",
   "execution_count": 75,
   "id": "a94b0e28-a9b3-4237-90b0-94154165a5c4",
   "metadata": {},
   "outputs": [],
   "source": [
    "ob1 = crawl()"
   ]
  },
  {
   "cell_type": "code",
   "execution_count": null,
   "id": "d874583c-6f39-4783-9eab-d14247d37e76",
   "metadata": {},
   "outputs": [],
   "source": [
    "ob1.source(\"https://www.headout.com/theme-parks-dubai-sc-1001~6/?limit=100&offset=0\" , \"Theme Parks\")"
   ]
  },
  {
   "cell_type": "code",
   "execution_count": null,
   "id": "38b27e43-27ad-42b5-b562-077a3ec2d4fa",
   "metadata": {},
   "outputs": [],
   "source": [
    "ob1.source(\"https://www.headout.com/museums-dubai-sc-1002~6/?limit=100&offset=0\" , \"Museums\")"
   ]
  },
  {
   "cell_type": "code",
   "execution_count": null,
   "id": "f8626a08-8b76-44de-a58b-379fe112cfc5",
   "metadata": {},
   "outputs": [],
   "source": [
    "ob1.source(\"https://www.headout.com/zoos-dubai-sc-1003~6/?limit=100&offset=0\" , \"Zoos\")"
   ]
  },
  {
   "cell_type": "code",
   "execution_count": 77,
   "id": "d0bb0ab8-960f-41ba-a57a-4e696c82bc7c",
   "metadata": {},
   "outputs": [],
   "source": [
    "ob1.source(\"https://www.headout.com/parks-dubai-sc-1004~6/?limit=100&offset=0\" , \"Parks\")"
   ]
  },
  {
   "cell_type": "code",
   "execution_count": null,
   "id": "581d2200-f2ab-4547-911a-e5a0b82ec0e7",
   "metadata": {},
   "outputs": [],
   "source": [
    "ob1.source(\"https://www.headout.com/water-parks-dubai-sc-1005~6/?limit=100&offset=0\" , \"Water Parks\")"
   ]
  },
  {
   "cell_type": "code",
   "execution_count": null,
   "id": "d45351ad-a2d0-4b72-ae2f-476748b95ea2",
   "metadata": {},
   "outputs": [],
   "source": [
    "ob1.source(\"https://www.headout.com/religious-sites-dubai-sc-1006~6/?limit=100&offset=0\" , \"Religious Sites\")"
   ]
  },
  {
   "cell_type": "code",
   "execution_count": null,
   "id": "7007ff19-fa22-4da1-a1c7-1aa451825329",
   "metadata": {},
   "outputs": [],
   "source": [
    "ob1.source(\"https://www.headout.com/landmarks-dubai-sc-1007~6/?limit=100&offset=0\" , \"Landmarks\")"
   ]
  },
  {
   "cell_type": "code",
   "execution_count": null,
   "id": "58ff95b8-36d7-49bc-afaa-453862c5f430",
   "metadata": {},
   "outputs": [],
   "source": [
    "ob1.source(\"https://www.headout.com/city-cards-dubai-sc-1008~6/?limit=100&offset=0\" , \"City Cards\")"
   ]
  },
  {
   "cell_type": "code",
   "execution_count": null,
   "id": "3b0f1fd4-5072-4d19-97b5-21a65c5f20a2",
   "metadata": {},
   "outputs": [],
   "source": [
    "ob1.source(\"https://www.headout.com/observation-decks-dubai-sc-1098~6/?limit=100&offset=0\" , \"Observation Decks\")"
   ]
  },
  {
   "cell_type": "code",
   "execution_count": null,
   "id": "072c514d-f130-47b6-b425-78c941dc2423",
   "metadata": {},
   "outputs": [],
   "source": [
    "ob1.source(\"https://www.headout.com/tours-dubai-ca-2~6/?limit=100&offset=0\" , \"Tours\")"
   ]
  },
  {
   "cell_type": "code",
   "execution_count": null,
   "id": "d88c728d-01d0-4d88-9ea0-dc9799e6110d",
   "metadata": {},
   "outputs": [],
   "source": [
    "ob1.source(\"https://www.headout.com/transportation-dubai-ca-3~6/?limit=100&offset=0\" , \"Transportation\")"
   ]
  },
  {
   "cell_type": "code",
   "execution_count": null,
   "id": "8b01731d-b510-4bb3-a47f-448e48d01eb0",
   "metadata": {},
   "outputs": [],
   "source": [
    "ob1.source(\"https://www.headout.com/travel-services-dubai-ca-4~6/?limit=100&offset=0\" , \"Travel Services\")"
   ]
  },
  {
   "cell_type": "code",
   "execution_count": null,
   "id": "cbe49087-033d-4672-b093-4a171849d669",
   "metadata": {},
   "outputs": [],
   "source": [
    "ob1.source(\"https://www.headout.com/cruises-dubai-ca-18~6/?limit=100&offset=0\" , \"Cruises\")"
   ]
  },
  {
   "cell_type": "code",
   "execution_count": null,
   "id": "54c78221-4044-44bb-bc29-3fe8c677a765",
   "metadata": {},
   "outputs": [],
   "source": [
    "ob1.source(\"https://www.headout.com/food-drink-dubai-ca-5~6/?limit=100&offset=0\" , \"Food & Drink\")"
   ]
  },
  {
   "cell_type": "code",
   "execution_count": null,
   "id": "7149c61b-b411-47f8-8bae-5c1bb55c45dc",
   "metadata": {},
   "outputs": [],
   "source": [
    "ob1.source(\"https://www.headout.com/entertainment-dubai-ca-7~6/?limit=100&offset=0\" , \"Entertainment shows\")"
   ]
  },
  {
   "cell_type": "code",
   "execution_count": null,
   "id": "4d9382a7-f371-4334-873d-d4d457e32afe",
   "metadata": {},
   "outputs": [],
   "source": [
    "ob1.source(\"https://www.headout.com/adventure-dubai-ca-8~6/?limit=100&offset=0\" , \"Adventure\")"
   ]
  },
  {
   "cell_type": "code",
   "execution_count": null,
   "id": "d3024ae5-6f9e-45b8-b66d-71ab89077913",
   "metadata": {},
   "outputs": [],
   "source": [
    "ob1.source(\"https://www.headout.com/aerial-sightseeing-dubai-ca-9~6/limit=100&offset=0\" , \"Aerial Sightseeing\")"
   ]
  },
  {
   "cell_type": "code",
   "execution_count": null,
   "id": "d0537c99-1331-46db-9ae3-a879f391b2cb",
   "metadata": {},
   "outputs": [],
   "source": [
    "ob1.source(\"https://www.headout.com/water-sports-dubai-ca-10~6/?limit=100&offset=0\" , \"Water Sports\")"
   ]
  },
  {
   "cell_type": "code",
   "execution_count": null,
   "id": "f5a354b2-5e3e-4155-9019-0a8f87bb74ff",
   "metadata": {},
   "outputs": [],
   "source": [
    "ob1.source(\"https://www.headout.com/specials-dubai-ca-14~6/?limit=100&offset=0\" , \"Specials\")"
   ]
  },
  {
   "cell_type": "code",
   "execution_count": null,
   "id": "0a79f18e-3eb4-42bb-bdd1-b238a2de916b",
   "metadata": {},
   "outputs": [],
   "source": [
    "ob1.source(\"https://www.headout.com/sports-dubai-ca-19~6/?limit=100&offset=0\" , \"Sports\")"
   ]
  },
  {
   "cell_type": "code",
   "execution_count": null,
   "id": "b4407380-70b4-41b2-9068-3ff407b8d998",
   "metadata": {},
   "outputs": [],
   "source": []
  }
 ],
 "metadata": {
  "kernelspec": {
   "display_name": "Python 3 (ipykernel)",
   "language": "python",
   "name": "python3"
  },
  "language_info": {
   "codemirror_mode": {
    "name": "ipython",
    "version": 3
   },
   "file_extension": ".py",
   "mimetype": "text/x-python",
   "name": "python",
   "nbconvert_exporter": "python",
   "pygments_lexer": "ipython3",
   "version": "3.12.4"
  }
 },
 "nbformat": 4,
 "nbformat_minor": 5
}
